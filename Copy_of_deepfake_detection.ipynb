{
  "metadata": {
    "kernelspec": {
      "language": "python",
      "display_name": "Python 3",
      "name": "python3"
    },
    "language_info": {
      "name": "python",
      "version": "3.10.12",
      "mimetype": "text/x-python",
      "codemirror_mode": {
        "name": "ipython",
        "version": 3
      },
      "pygments_lexer": "ipython3",
      "nbconvert_exporter": "python",
      "file_extension": ".py"
    },
    "kaggle": {
      "accelerator": "gpu",
      "dataSources": [
        {
          "sourceId": 250645,
          "sourceType": "datasetVersion",
          "datasetId": 105271
        },
        {
          "sourceId": 939937,
          "sourceType": "datasetVersion",
          "datasetId": 501529
        },
        {
          "sourceId": 3134515,
          "sourceType": "datasetVersion",
          "datasetId": 1909705
        },
        {
          "sourceId": 3142794,
          "sourceType": "datasetVersion",
          "datasetId": 1913588
        },
        {
          "sourceId": 7353626,
          "sourceType": "datasetVersion",
          "datasetId": 4270700
        }
      ],
      "dockerImageVersionId": 30588,
      "isInternetEnabled": true,
      "language": "python",
      "sourceType": "notebook",
      "isGpuEnabled": true
    },
    "colab": {
      "provenance": [],
      "include_colab_link": true
    }
  },
  "nbformat_minor": 0,
  "nbformat": 4,
  "cells": [
    {
      "cell_type": "markdown",
      "metadata": {
        "id": "view-in-github",
        "colab_type": "text"
      },
      "source": [
        "<a href=\"https://colab.research.google.com/github/madhukumarap/-chat_and_notification_feature_codepth.-/blob/madhu/Copy_of_deepfake_detection.ipynb\" target=\"_parent\"><img src=\"https://colab.research.google.com/assets/colab-badge.svg\" alt=\"Open In Colab\"/></a>"
      ]
    },
    {
      "cell_type": "code",
      "source": [
        "data_csv='/kaggle/input/dataset/dataset.csv'\n",
        "data1_dir = '/kaggle/input/140k-real-and-fake-faces/real_vs_fake/real-vs-fake'\n",
        "data2_dir = '/kaggle/input/deepfake-and-real-images/Dataset'\n",
        "data3_dir = '/kaggle/input/hardfakevsrealfaces'\n",
        "data4_dir = '/kaggle/input/real-and-fake-face-detection/real_and_fake_face'\n",
        "data5_dir = '/kaggle/input/real-vs-ai-generated-faces-dataset/dataset/dataset'"
      ],
      "metadata": {
        "execution": {
          "iopub.status.busy": "2024-07-14T10:49:57.289313Z",
          "iopub.execute_input": "2024-07-14T10:49:57.289844Z",
          "iopub.status.idle": "2024-07-14T10:49:57.294574Z",
          "shell.execute_reply.started": "2024-07-14T10:49:57.289817Z",
          "shell.execute_reply": "2024-07-14T10:49:57.293674Z"
        },
        "trusted": true,
        "id": "E834qCET1FBy"
      },
      "execution_count": null,
      "outputs": []
    },
    {
      "cell_type": "code",
      "source": [
        "import os\n",
        "import tensorflow as tf\n",
        "from matplotlib import pyplot as plt\n",
        "import cv2\n",
        "import numpy as np\n",
        "from tensorflow.keras.models import Sequential\n",
        "from tensorflow.keras.layers import Conv2D, MaxPooling2D, Dense, Flatten, Dropout\n",
        "from tensorflow.keras.metrics import Precision, Recall, BinaryAccuracy\n",
        "from keras.models import load_model\n",
        "from keras.preprocessing import image\n",
        "from keras.applications import MobileNetV2\n",
        "from keras.applications.mobilenet_v2 import preprocess_input, decode_predictions\n",
        "from keras.preprocessing.image import ImageDataGenerator\n",
        "import csv"
      ],
      "metadata": {
        "_uuid": "8f2839f25d086af736a60e9eeb907d3b93b6e0e5",
        "_cell_guid": "b1076dfc-b9ad-4769-8c92-a6c4dae69d19",
        "execution": {
          "iopub.status.busy": "2024-07-14T10:49:45.462876Z",
          "iopub.execute_input": "2024-07-14T10:49:45.463122Z",
          "iopub.status.idle": "2024-07-14T10:49:57.287671Z",
          "shell.execute_reply.started": "2024-07-14T10:49:45.463099Z",
          "shell.execute_reply": "2024-07-14T10:49:57.286678Z"
        },
        "trusted": true,
        "id": "l3M7uO1L1FBu"
      },
      "execution_count": null,
      "outputs": []
    },
    {
      "source": [
        "\n",
        "# IMPORTANT: RUN THIS CELL IN ORDER TO IMPORT YOUR KAGGLE DATA SOURCES\n",
        "# TO THE CORRECT LOCATION (/kaggle/input) IN YOUR NOTEBOOK,\n",
        "# THEN FEEL FREE TO DELETE THIS CELL.\n",
        "# NOTE: THIS NOTEBOOK ENVIRONMENT DIFFERS FROM KAGGLE'S PYTHON\n",
        "# ENVIRONMENT SO THERE MAY BE MISSING LIBRARIES USED BY YOUR\n",
        "# NOTEBOOK.\n",
        "\n",
        "import os\n",
        "import sys\n",
        "from tempfile import NamedTemporaryFile\n",
        "from urllib.request import urlopen\n",
        "from urllib.parse import unquote, urlparse\n",
        "from urllib.error import HTTPError\n",
        "from zipfile import ZipFile\n",
        "import tarfile\n",
        "import shutil\n",
        "\n",
        "CHUNK_SIZE = 40960\n",
        "DATA_SOURCE_MAPPING = 'real-and-fake-face-detection:https%3A%2F%2Fstorage.googleapis.com%2Fkaggle-data-sets%2F105271%2F250645%2Fbundle%2Farchive.zip%3FX-Goog-Algorithm%3DGOOG4-RSA-SHA256%26X-Goog-Credential%3Dgcp-kaggle-com%2540kaggle-161607.iam.gserviceaccount.com%252F20240714%252Fauto%252Fstorage%252Fgoog4_request%26X-Goog-Date%3D20240714T151952Z%26X-Goog-Expires%3D259200%26X-Goog-SignedHeaders%3Dhost%26X-Goog-Signature%3D9a4265b632c414aa3b96179901b56bb994e6e9adedea394c9b7b978483cb0652dfb2f9ea9ac6578205a3463af637dd1573f8300b1ed387947dbe389fed2634da59fc118dc3833078b931f3531e583ae8b84fd421b733f6863bb20b680e143ed4bec748f575080f281ffe41cd2569b4957ead7bae5eabc524a081199a1ae8ac9782eff570fd970f7cdc65fcad667bd229dad998ceac8f8e004d86b4f003f778a034f6af1b3af4451a03c9159bfad0f3668c92d92852288328b73364cde116db8955ab523d484636f5cf03c49ac56ebb66e700fb336756d3f72468911e9215615028ca2a872abfd8fc54a6f50a9221ac476fc9057d9fa05f501bef57016b36723b,140k-real-and-fake-faces:https%3A%2F%2Fstorage.googleapis.com%2Fkaggle-data-sets%2F501529%2F939937%2Fbundle%2Farchive.zip%3FX-Goog-Algorithm%3DGOOG4-RSA-SHA256%26X-Goog-Credential%3Dgcp-kaggle-com%2540kaggle-161607.iam.gserviceaccount.com%252F20240714%252Fauto%252Fstorage%252Fgoog4_request%26X-Goog-Date%3D20240714T151952Z%26X-Goog-Expires%3D259200%26X-Goog-SignedHeaders%3Dhost%26X-Goog-Signature%3D5245b2c2a96b7ed8492dfca48f8583715cce31da61d0585f91d5951801e57c3c4fdfa771403fb4b60ba4172eab9c7f92078876f94124e88c9ccf014ac427a9c8a4830915d032595af3994b5606c4a192c516056dd4d28b14bc2a8edd0a9843ac1680f915af51125aef8a3ca0289a37aaaff76c24ba7723b7f64653c2edea0eaf4b58c6f8b6c105b7a7b9b782b21b24fd41be481785332793ed987af1257bb2be036996920fe5e3eaa11a433243ab9942c5ddc47e1c861e499852207c6e2affd929956a94b0161ae7f5e994edf749a89b1a94c95d869bd8a1bbd85aaad9670172d3debcd9c2d1bb1b8517e6a2a6c4384bda6a0a2aeb931e70b4dfeb2800ab9579,deepfake-and-real-images:https%3A%2F%2Fstorage.googleapis.com%2Fkaggle-data-sets%2F1909705%2F3134515%2Fbundle%2Farchive.zip%3FX-Goog-Algorithm%3DGOOG4-RSA-SHA256%26X-Goog-Credential%3Dgcp-kaggle-com%2540kaggle-161607.iam.gserviceaccount.com%252F20240714%252Fauto%252Fstorage%252Fgoog4_request%26X-Goog-Date%3D20240714T151952Z%26X-Goog-Expires%3D259200%26X-Goog-SignedHeaders%3Dhost%26X-Goog-Signature%3D45a5dd281a5971860da525a5c824a3a27fea42ff2f8948372f334b47a62ffaa8b287ca73efe61b70e94e303332ae1aa8976c4dd2ba0729b10d3b8185aec6053b8c2258447b95f6b7be6518ede77c49af154199c82e1c61981c556d6129e8a155a9db7725d0d76a32e6e4cdf71dbe63fe433a01776fc68326ed96ca1ce8baa5ff4389f11a3c53dd6b37c5cccb105325b72427c0fec7c8d898d36a1f82d8bcd64e6f811d4b6ebeedf5f981d13f1a6ab8b42938821fbaa8a54b313d4ccd39e64ec558389c9904b61e803e0509d276e1d3067976e1a33ee2c9befde0abbd3768e66e639169816011872128a4b6b204334b29e9e0a1cd1abc7375422854bc277f3716,hardfakevsrealfaces:https%3A%2F%2Fstorage.googleapis.com%2Fkaggle-data-sets%2F1913588%2F3142794%2Fbundle%2Farchive.zip%3FX-Goog-Algorithm%3DGOOG4-RSA-SHA256%26X-Goog-Credential%3Dgcp-kaggle-com%2540kaggle-161607.iam.gserviceaccount.com%252F20240714%252Fauto%252Fstorage%252Fgoog4_request%26X-Goog-Date%3D20240714T151953Z%26X-Goog-Expires%3D259200%26X-Goog-SignedHeaders%3Dhost%26X-Goog-Signature%3Da51d0fdfde125a0a4d21f7f0ae1ddbeafcc9cc22ccb45cd96057a3d8b957fdeb328d575d7d79f1ced3f269308ec4b83bec6b40059cdf8aa938d0c34fbc7201d11b8127ed9d43cdc44ec0a67a921ac9dab361fe786fa7253008c0c8baf0eb89de889d4640b99b4bee91ae3746ddde8b4e77531e672de25aa581e40550067140b235bbeb541d96c285013517efda6a68e26e209a0042c898b6d3e1f885f5e30887787eecc6181a3190d6e968564113d78fdae212dc608bcee6963010d614b2c745303e4718ae7ca3c6ec7970ab7dc922ee37fb67edd3da953313d5e8fe6b2b805fd8795143f5ea3a4f9560af6130f3d7135cfb4019269e1c6e6662ebe546867ca5,real-vs-ai-generated-faces-dataset:https%3A%2F%2Fstorage.googleapis.com%2Fkaggle-data-sets%2F4270700%2F7353626%2Fbundle%2Farchive.zip%3FX-Goog-Algorithm%3DGOOG4-RSA-SHA256%26X-Goog-Credential%3Dgcp-kaggle-com%2540kaggle-161607.iam.gserviceaccount.com%252F20240714%252Fauto%252Fstorage%252Fgoog4_request%26X-Goog-Date%3D20240714T151953Z%26X-Goog-Expires%3D259200%26X-Goog-SignedHeaders%3Dhost%26X-Goog-Signature%3D38b560b53f882b9d181885fb23f2b41880802772c3996d1c38fcd0be87ad1dc53531eb4c9a0147f8cc13ab804d904431ba91db45265f9043957910305994e5c6ecb8f619d9748316dd3be0fd532d436d3e484b4330e486d75998dd3faf1b70523197721865270382ac8e8b562f72253d23cb69922842a46db8ae24df8fc47cd70be898e1072a9a7b6a7c7170ab6ed4c27a9be0972ec62c59544856f653b55939a3e9e6fb96ad12dc6a2832c9c9327dbbb94672478b502220072ad678de2edfdfaf3e7cd1c38545d2495b0e719c344979b1a4110cba8007f8f9f0697ee67e852e6d6c08da8adbf6e91817bd71a77802fc0d64dd5dc7a8b9d591fdc27efe5272c5'\n",
        "\n",
        "KAGGLE_INPUT_PATH='/kaggle/input'\n",
        "KAGGLE_WORKING_PATH='/kaggle/working'\n",
        "KAGGLE_SYMLINK='kaggle'\n",
        "\n",
        "!umount /kaggle/input/ 2> /dev/null\n",
        "shutil.rmtree('/kaggle/input', ignore_errors=True)\n",
        "os.makedirs(KAGGLE_INPUT_PATH, 0o777, exist_ok=True)\n",
        "os.makedirs(KAGGLE_WORKING_PATH, 0o777, exist_ok=True)\n",
        "\n",
        "try:\n",
        "  os.symlink(KAGGLE_INPUT_PATH, os.path.join(\"..\", 'input'), target_is_directory=True)\n",
        "except FileExistsError:\n",
        "  pass\n",
        "try:\n",
        "  os.symlink(KAGGLE_WORKING_PATH, os.path.join(\"..\", 'working'), target_is_directory=True)\n",
        "except FileExistsError:\n",
        "  pass\n",
        "\n",
        "for data_source_mapping in DATA_SOURCE_MAPPING.split(','):\n",
        "    directory, download_url_encoded = data_source_mapping.split(':')\n",
        "    download_url = unquote(download_url_encoded)\n",
        "    filename = urlparse(download_url).path\n",
        "    destination_path = os.path.join(KAGGLE_INPUT_PATH, directory)\n",
        "    try:\n",
        "        with urlopen(download_url) as fileres, NamedTemporaryFile() as tfile:\n",
        "            total_length = fileres.headers['content-length']\n",
        "            print(f'Downloading {directory}, {total_length} bytes compressed')\n",
        "            dl = 0\n",
        "            data = fileres.read(CHUNK_SIZE)\n",
        "            while len(data) > 0:\n",
        "                dl += len(data)\n",
        "                tfile.write(data)\n",
        "                done = int(50 * dl / int(total_length))\n",
        "                sys.stdout.write(f\"\\r[{'=' * done}{' ' * (50-done)}] {dl} bytes downloaded\")\n",
        "                sys.stdout.flush()\n",
        "                data = fileres.read(CHUNK_SIZE)\n",
        "            if filename.endswith('.zip'):\n",
        "              with ZipFile(tfile) as zfile:\n",
        "                zfile.extractall(destination_path)\n",
        "            else:\n",
        "              with tarfile.open(tfile.name) as tarfile:\n",
        "                tarfile.extractall(destination_path)\n",
        "            print(f'\\nDownloaded and uncompressed: {directory}')\n",
        "    except HTTPError as e:\n",
        "        print(f'Failed to load (likely expired) {download_url} to path {destination_path}')\n",
        "        continue\n",
        "    except OSError as e:\n",
        "        print(f'Failed to load {download_url} to path {destination_path}')\n",
        "        continue\n",
        "\n",
        "print('Data source import complete.')\n"
      ],
      "metadata": {
        "id": "V_k9iHyy1FBf"
      },
      "cell_type": "code",
      "outputs": [],
      "execution_count": null
    },
    {
      "cell_type": "code",
      "source": [
        "os.listdir(data5_dir)"
      ],
      "metadata": {
        "execution": {
          "iopub.status.busy": "2024-07-14T10:49:57.295645Z",
          "iopub.execute_input": "2024-07-14T10:49:57.295906Z",
          "iopub.status.idle": "2024-07-14T10:49:57.333945Z",
          "shell.execute_reply.started": "2024-07-14T10:49:57.295883Z",
          "shell.execute_reply": "2024-07-14T10:49:57.333098Z"
        },
        "trusted": true,
        "id": "wHiCf9ch1FB1",
        "outputId": "004286d0-b0e9-4d2d-9537-b584cb0d5cc3",
        "colab": {
          "base_uri": "https://localhost:8080/",
          "height": 141
        }
      },
      "execution_count": null,
      "outputs": [
        {
          "output_type": "error",
          "ename": "FileNotFoundError",
          "evalue": "[Errno 2] No such file or directory: '/kaggle/input/real-vs-ai-generated-faces-dataset/dataset/dataset'",
          "traceback": [
            "\u001b[0;31m---------------------------------------------------------------------------\u001b[0m",
            "\u001b[0;31mFileNotFoundError\u001b[0m                         Traceback (most recent call last)",
            "\u001b[0;32m<ipython-input-3-63d949d121ed>\u001b[0m in \u001b[0;36m<cell line: 1>\u001b[0;34m()\u001b[0m\n\u001b[0;32m----> 1\u001b[0;31m \u001b[0mos\u001b[0m\u001b[0;34m.\u001b[0m\u001b[0mlistdir\u001b[0m\u001b[0;34m(\u001b[0m\u001b[0mdata5_dir\u001b[0m\u001b[0;34m)\u001b[0m\u001b[0;34m\u001b[0m\u001b[0;34m\u001b[0m\u001b[0m\n\u001b[0m",
            "\u001b[0;31mFileNotFoundError\u001b[0m: [Errno 2] No such file or directory: '/kaggle/input/real-vs-ai-generated-faces-dataset/dataset/dataset'"
          ]
        }
      ]
    },
    {
      "cell_type": "code",
      "source": [
        "#print(len( os.listdir((os.path.join(data2_dir,'Train','Real')))))\n",
        "#print(len( os.listdir((os.path.join(data2_dir,'Train','Fake')))))"
      ],
      "metadata": {
        "execution": {
          "iopub.status.busy": "2024-07-14T10:49:57.335882Z",
          "iopub.execute_input": "2024-07-14T10:49:57.336145Z",
          "iopub.status.idle": "2024-07-14T10:49:57.339698Z",
          "shell.execute_reply.started": "2024-07-14T10:49:57.336122Z",
          "shell.execute_reply": "2024-07-14T10:49:57.338827Z"
        },
        "trusted": true,
        "id": "4GfwjB3F1FB2",
        "outputId": "745569a7-4f69-4383-a113-5b96cb1268be",
        "colab": {
          "base_uri": "https://localhost:8080/",
          "height": 159
        }
      },
      "execution_count": null,
      "outputs": [
        {
          "output_type": "error",
          "ename": "FileNotFoundError",
          "evalue": "[Errno 2] No such file or directory: '/kaggle/input/deepfake-and-real-images/Dataset/Train/Real'",
          "traceback": [
            "\u001b[0;31m---------------------------------------------------------------------------\u001b[0m",
            "\u001b[0;31mFileNotFoundError\u001b[0m                         Traceback (most recent call last)",
            "\u001b[0;32m<ipython-input-6-00bd1503bb54>\u001b[0m in \u001b[0;36m<cell line: 1>\u001b[0;34m()\u001b[0m\n\u001b[0;32m----> 1\u001b[0;31m \u001b[0mprint\u001b[0m\u001b[0;34m(\u001b[0m\u001b[0mlen\u001b[0m\u001b[0;34m(\u001b[0m \u001b[0mos\u001b[0m\u001b[0;34m.\u001b[0m\u001b[0mlistdir\u001b[0m\u001b[0;34m(\u001b[0m\u001b[0;34m(\u001b[0m\u001b[0mos\u001b[0m\u001b[0;34m.\u001b[0m\u001b[0mpath\u001b[0m\u001b[0;34m.\u001b[0m\u001b[0mjoin\u001b[0m\u001b[0;34m(\u001b[0m\u001b[0mdata2_dir\u001b[0m\u001b[0;34m,\u001b[0m\u001b[0;34m'Train'\u001b[0m\u001b[0;34m,\u001b[0m\u001b[0;34m'Real'\u001b[0m\u001b[0;34m)\u001b[0m\u001b[0;34m)\u001b[0m\u001b[0;34m)\u001b[0m\u001b[0;34m)\u001b[0m\u001b[0;34m)\u001b[0m\u001b[0;34m\u001b[0m\u001b[0;34m\u001b[0m\u001b[0m\n\u001b[0m\u001b[1;32m      2\u001b[0m \u001b[0mprint\u001b[0m\u001b[0;34m(\u001b[0m\u001b[0mlen\u001b[0m\u001b[0;34m(\u001b[0m \u001b[0mos\u001b[0m\u001b[0;34m.\u001b[0m\u001b[0mlistdir\u001b[0m\u001b[0;34m(\u001b[0m\u001b[0;34m(\u001b[0m\u001b[0mos\u001b[0m\u001b[0;34m.\u001b[0m\u001b[0mpath\u001b[0m\u001b[0;34m.\u001b[0m\u001b[0mjoin\u001b[0m\u001b[0;34m(\u001b[0m\u001b[0mdata2_dir\u001b[0m\u001b[0;34m,\u001b[0m\u001b[0;34m'Train'\u001b[0m\u001b[0;34m,\u001b[0m\u001b[0;34m'Fake'\u001b[0m\u001b[0;34m)\u001b[0m\u001b[0;34m)\u001b[0m\u001b[0;34m)\u001b[0m\u001b[0;34m)\u001b[0m\u001b[0;34m)\u001b[0m\u001b[0;34m\u001b[0m\u001b[0;34m\u001b[0m\u001b[0m\n",
            "\u001b[0;31mFileNotFoundError\u001b[0m: [Errno 2] No such file or directory: '/kaggle/input/deepfake-and-real-images/Dataset/Train/Real'"
          ]
        }
      ]
    },
    {
      "cell_type": "code",
      "source": [],
      "metadata": {
        "trusted": true,
        "id": "tMRQ1KYp1FB3"
      },
      "execution_count": null,
      "outputs": []
    },
    {
      "cell_type": "code",
      "source": [
        "img = cv2.imread(os.path.join(data2_dir,'Train','Real','real_58276.jpg'))"
      ],
      "metadata": {
        "execution": {
          "iopub.status.busy": "2024-07-14T10:49:57.340918Z",
          "iopub.execute_input": "2024-07-14T10:49:57.341286Z",
          "iopub.status.idle": "2024-07-14T10:49:57.348968Z",
          "shell.execute_reply.started": "2024-07-14T10:49:57.341255Z",
          "shell.execute_reply": "2024-07-14T10:49:57.348207Z"
        },
        "trusted": true,
        "id": "78LKKiQt1FB5"
      },
      "execution_count": null,
      "outputs": []
    },
    {
      "cell_type": "code",
      "source": [
        "type(img)"
      ],
      "metadata": {
        "execution": {
          "iopub.status.busy": "2024-07-14T10:49:57.350202Z",
          "iopub.execute_input": "2024-07-14T10:49:57.35047Z",
          "iopub.status.idle": "2024-07-14T10:49:57.358989Z",
          "shell.execute_reply.started": "2024-07-14T10:49:57.350448Z",
          "shell.execute_reply": "2024-07-14T10:49:57.358106Z"
        },
        "trusted": true,
        "id": "JCd1Zp6Z1FB5",
        "outputId": "5face0d1-ccb3-4c91-ab49-c79937b281c1",
        "colab": {
          "base_uri": "https://localhost:8080/"
        }
      },
      "execution_count": null,
      "outputs": [
        {
          "output_type": "execute_result",
          "data": {
            "text/plain": [
              "NoneType"
            ]
          },
          "metadata": {},
          "execution_count": 8
        }
      ]
    },
    {
      "cell_type": "code",
      "source": [
        "# img.shape"
      ],
      "metadata": {
        "execution": {
          "iopub.status.busy": "2024-07-14T10:49:57.360098Z",
          "iopub.execute_input": "2024-07-14T10:49:57.360435Z",
          "iopub.status.idle": "2024-07-14T10:49:57.368678Z",
          "shell.execute_reply.started": "2024-07-14T10:49:57.360405Z",
          "shell.execute_reply": "2024-07-14T10:49:57.3679Z"
        },
        "trusted": true,
        "id": "N8nvFr9v1FB7",
        "outputId": "bad73988-cc3d-4de9-960b-09ce43439684",
        "colab": {
          "base_uri": "https://localhost:8080/",
          "height": 141
        }
      },
      "execution_count": null,
      "outputs": [
        {
          "output_type": "error",
          "ename": "AttributeError",
          "evalue": "'NoneType' object has no attribute 'shape'",
          "traceback": [
            "\u001b[0;31m---------------------------------------------------------------------------\u001b[0m",
            "\u001b[0;31mAttributeError\u001b[0m                            Traceback (most recent call last)",
            "\u001b[0;32m<ipython-input-9-32ad6cb7aa56>\u001b[0m in \u001b[0;36m<cell line: 1>\u001b[0;34m()\u001b[0m\n\u001b[0;32m----> 1\u001b[0;31m \u001b[0mimg\u001b[0m\u001b[0;34m.\u001b[0m\u001b[0mshape\u001b[0m\u001b[0;34m\u001b[0m\u001b[0;34m\u001b[0m\u001b[0m\n\u001b[0m",
            "\u001b[0;31mAttributeError\u001b[0m: 'NoneType' object has no attribute 'shape'"
          ]
        }
      ]
    },
    {
      "cell_type": "code",
      "source": [
        "# plt.imshow(cv2.cvtColor(img, cv2.COLOR_BGR2RGB))"
      ],
      "metadata": {
        "execution": {
          "iopub.status.busy": "2024-07-14T10:49:57.369592Z",
          "iopub.execute_input": "2024-07-14T10:49:57.369859Z",
          "iopub.status.idle": "2024-07-14T10:49:57.378714Z",
          "shell.execute_reply.started": "2024-07-14T10:49:57.369836Z",
          "shell.execute_reply": "2024-07-14T10:49:57.377871Z"
        },
        "trusted": true,
        "id": "qmrb_8nY1FB8",
        "outputId": "ea698eb7-6e87-48c3-a077-8c439a4d0fa8",
        "colab": {
          "base_uri": "https://localhost:8080/",
          "height": 141
        }
      },
      "execution_count": null,
      "outputs": [
        {
          "output_type": "error",
          "ename": "error",
          "evalue": "OpenCV(4.8.0) /io/opencv/modules/imgproc/src/color.cpp:182: error: (-215:Assertion failed) !_src.empty() in function 'cvtColor'\n",
          "traceback": [
            "\u001b[0;31m---------------------------------------------------------------------------\u001b[0m",
            "\u001b[0;31merror\u001b[0m                                     Traceback (most recent call last)",
            "\u001b[0;32m<ipython-input-10-09bffe7d90e9>\u001b[0m in \u001b[0;36m<cell line: 1>\u001b[0;34m()\u001b[0m\n\u001b[0;32m----> 1\u001b[0;31m \u001b[0mplt\u001b[0m\u001b[0;34m.\u001b[0m\u001b[0mimshow\u001b[0m\u001b[0;34m(\u001b[0m\u001b[0mcv2\u001b[0m\u001b[0;34m.\u001b[0m\u001b[0mcvtColor\u001b[0m\u001b[0;34m(\u001b[0m\u001b[0mimg\u001b[0m\u001b[0;34m,\u001b[0m \u001b[0mcv2\u001b[0m\u001b[0;34m.\u001b[0m\u001b[0mCOLOR_BGR2RGB\u001b[0m\u001b[0;34m)\u001b[0m\u001b[0;34m)\u001b[0m\u001b[0;34m\u001b[0m\u001b[0;34m\u001b[0m\u001b[0m\n\u001b[0m",
            "\u001b[0;31merror\u001b[0m: OpenCV(4.8.0) /io/opencv/modules/imgproc/src/color.cpp:182: error: (-215:Assertion failed) !_src.empty() in function 'cvtColor'\n"
          ]
        }
      ]
    },
    {
      "cell_type": "code",
      "source": [],
      "metadata": {
        "trusted": true,
        "id": "ykx2yw0n1FB9"
      },
      "execution_count": null,
      "outputs": []
    },
    {
      "cell_type": "code",
      "source": [
        "# data_dir = '/kaggle/input/deepfake-and-real-images/Dataset/Train'\n",
        "# data = tf.keras.utils.image_dataset_from_directory(data_dir)"
      ],
      "metadata": {
        "execution": {
          "iopub.status.busy": "2024-07-14T10:49:57.379661Z",
          "iopub.execute_input": "2024-07-14T10:49:57.379927Z",
          "iopub.status.idle": "2024-07-14T10:49:57.387853Z",
          "shell.execute_reply.started": "2024-07-14T10:49:57.379904Z",
          "shell.execute_reply": "2024-07-14T10:49:57.3871Z"
        },
        "trusted": true,
        "id": "hAiKffA_1FB-"
      },
      "execution_count": null,
      "outputs": []
    },
    {
      "cell_type": "markdown",
      "source": [
        "# **creating csv file contains the compination of multiple datasets**"
      ],
      "metadata": {
        "id": "XkHwjydy1FCA"
      }
    },
    {
      "cell_type": "code",
      "source": [
        "\n",
        "if os.path.exists(data_csv):\n",
        "    print('exists')\n",
        "else:\n",
        "\n",
        "    data_dirs = [ data3_dir,data4_dir, data5_dir]\n",
        "\n",
        "    # Define the path for the CSV file\n",
        "    csv_file = 'dataset1.csv'\n",
        "    data_csv=csv_file\n",
        "\n",
        "    # Define the class mapping\n",
        "    class_mapping = {\n",
        "        'fake': 'Fake',\n",
        "        'real': 'Real',\n",
        "        'Fake': 'Fake',\n",
        "        'Real': 'Real',\n",
        "        'training_fake': 'Fake',\n",
        "        'training_real': 'Real',\n",
        "        '0':'Real',\n",
        "        '1':'Fake'\n",
        "    }\n",
        "\n",
        "    # Open the CSV file in write mode\n",
        "    with open(csv_file, 'w', newline='') as file:\n",
        "        writer = csv.writer(file)\n",
        "        writer.writerow(['image', 'label'])  # Write the header row\n",
        "\n",
        "        # Iterate through the directories in the dataset directory\n",
        "        for data_dir in data_dirs:\n",
        "            for root, dirs, files in os.walk(data_dir):\n",
        "                for file in files:\n",
        "                    if file.endswith('.jpg') or file.endswith('.png'):  # Adjust file extensions as needed\n",
        "                        # Get the image path\n",
        "                        image_path = os.path.join(root, file)\n",
        "\n",
        "                        # Extract the label from the parent folder name\n",
        "                        label = os.path.basename(root)\n",
        "\n",
        "                        # Apply the mapping to the label\n",
        "                        mapped_label = class_mapping.get(label, label)\n",
        "\n",
        "                        # Write the image path and mapped label to the CSV file\n",
        "                        writer.writerow([image_path, mapped_label])\n"
      ],
      "metadata": {
        "execution": {
          "iopub.status.busy": "2024-07-14T10:49:57.391438Z",
          "iopub.execute_input": "2024-07-14T10:49:57.391703Z",
          "iopub.status.idle": "2024-07-14T10:52:50.951933Z",
          "shell.execute_reply.started": "2024-07-14T10:49:57.391681Z",
          "shell.execute_reply": "2024-07-14T10:52:50.95112Z"
        },
        "trusted": true,
        "id": "yELclrGW1FCE",
        "outputId": "d0dff4a8-a51f-4dae-ca80-0317fc2536c1",
        "colab": {
          "base_uri": "https://localhost:8080/"
        }
      },
      "execution_count": null,
      "outputs": [
        {
          "output_type": "stream",
          "name": "stdout",
          "text": [
            "exists\n"
          ]
        }
      ]
    },
    {
      "cell_type": "code",
      "source": [
        "target_size = (150, 150)"
      ],
      "metadata": {
        "execution": {
          "iopub.status.busy": "2024-07-14T10:52:50.953094Z",
          "iopub.execute_input": "2024-07-14T10:52:50.953454Z",
          "iopub.status.idle": "2024-07-14T10:52:50.958128Z",
          "shell.execute_reply.started": "2024-07-14T10:52:50.953423Z",
          "shell.execute_reply": "2024-07-14T10:52:50.957191Z"
        },
        "trusted": true,
        "id": "dZNedNJv1FCJ"
      },
      "execution_count": null,
      "outputs": []
    },
    {
      "cell_type": "code",
      "source": [
        "import pandas as pd\n",
        "from keras.preprocessing.image import ImageDataGenerator\n",
        "\n",
        "# Load the CSV file into a DataFrame\n",
        "df = pd.read_csv(data_csv)\n",
        "\n",
        "# Create an ImageDataGenerator instance with rescaling and other desired preprocessing options\n",
        "datagen = ImageDataGenerator(\n",
        "    rescale=1./255,\n",
        "    validation_split=0.2,  # Split the data into train/validation sets\n",
        ")"
      ],
      "metadata": {
        "execution": {
          "iopub.status.busy": "2024-07-14T10:52:50.959333Z",
          "iopub.execute_input": "2024-07-14T10:52:50.959602Z",
          "iopub.status.idle": "2024-07-14T10:52:51.182061Z",
          "shell.execute_reply.started": "2024-07-14T10:52:50.959578Z",
          "shell.execute_reply": "2024-07-14T10:52:51.181307Z"
        },
        "trusted": true,
        "id": "6mfjXP-O1FCJ"
      },
      "execution_count": null,
      "outputs": []
    },
    {
      "cell_type": "code",
      "source": [
        "# Create a data generator from the DataFrame using flow_from_dataframe()\n",
        "data_generator = datagen.flow_from_dataframe(\n",
        "    dataframe=df,\n",
        "    x_col='image',         # Column containing the image paths\n",
        "    y_col='label',         # Column containing the labels\n",
        "    target_size=target_size,\n",
        "    batch_size=32,\n",
        "    class_mode='binary',  # Use 'categorical' for multi-class classification\n",
        "    shuffle=True,           # Shuffle the data\n",
        "    seed=42,                # Set random seed for reproducibility\n",
        "    subset='training'       # Use 'training' subset for training data\n",
        ")"
      ],
      "metadata": {
        "execution": {
          "iopub.status.busy": "2024-07-14T10:52:51.183276Z",
          "iopub.execute_input": "2024-07-14T10:52:51.183986Z",
          "iopub.status.idle": "2024-07-14T10:53:52.024192Z",
          "shell.execute_reply.started": "2024-07-14T10:52:51.183949Z",
          "shell.execute_reply": "2024-07-14T10:53:52.023207Z"
        },
        "trusted": true,
        "id": "tgkQQbaG1FCK"
      },
      "execution_count": null,
      "outputs": []
    },
    {
      "cell_type": "code",
      "source": [
        "# Create a validation data generator\n",
        "validation_generator = datagen.flow_from_dataframe(\n",
        "    dataframe=df,\n",
        "    x_col='image',\n",
        "    y_col='label',\n",
        "    target_size=target_size,\n",
        "    batch_size=32,\n",
        "    class_mode='binary',\n",
        "    shuffle=True,\n",
        "    seed=42,\n",
        "    subset='validation'  # Use 'validation' subset for validation data\n",
        ")"
      ],
      "metadata": {
        "execution": {
          "iopub.status.busy": "2024-07-14T10:53:52.025476Z",
          "iopub.execute_input": "2024-07-14T10:53:52.026228Z",
          "iopub.status.idle": "2024-07-14T10:54:54.637326Z",
          "shell.execute_reply.started": "2024-07-14T10:53:52.026193Z",
          "shell.execute_reply": "2024-07-14T10:54:54.636584Z"
        },
        "trusted": true,
        "id": "bmEJAqno1FCK"
      },
      "execution_count": null,
      "outputs": []
    },
    {
      "cell_type": "code",
      "source": [
        "\n",
        "from tensorflow.keras.models import Sequential\n",
        "from tensorflow.keras.layers import Conv2D, MaxPooling2D, Flatten, Dense, Dropout\n",
        "\n",
        "# Create a CNN model\n",
        "model = Sequential()\n",
        "\n",
        "# Block 1\n",
        "model.add(Conv2D(32, (3, 3), activation='relu', padding='same',input_shape=(target_size[0],target_size[1], 3)))\n",
        "model.add(MaxPooling2D((2, 2), strides=(2, 2)))\n",
        "\n",
        "# Block 2\n",
        "model.add(Conv2D(64, (3, 3), activation='relu', padding='same'))\n",
        "model.add(MaxPooling2D((2, 2), strides=(2, 2)))\n",
        "\n",
        "# Block 3\n",
        "model.add(Conv2D(128, (3, 3), activation='relu', padding='same'))\n",
        "model.add(MaxPooling2D((2, 2), strides=(2, 2)))\n",
        "\n",
        "# Block 4\n",
        "model.add(Conv2D(256, (3, 3), activation='relu', padding='same'))\n",
        "model.add(MaxPooling2D((2, 2), strides=(2, 2)))\n",
        "\n",
        "# Block 5\n",
        "model.add(Conv2D(512, (3, 3), activation='relu', padding='same'))\n",
        "model.add(MaxPooling2D((2, 2), strides=(2, 2)))\n",
        "\n",
        "\n",
        "# Classification block\n",
        "model.add(Flatten())\n",
        "model.add(Dense(256, activation='relu'))\n",
        "model.add(Dense(512, activation='relu'))\n",
        "\n",
        "model.add(Dense(1, activation='sigmoid'))\n"
      ],
      "metadata": {
        "execution": {
          "iopub.status.busy": "2024-07-14T10:54:54.638325Z",
          "iopub.execute_input": "2024-07-14T10:54:54.638591Z",
          "iopub.status.idle": "2024-07-14T10:54:55.640934Z",
          "shell.execute_reply.started": "2024-07-14T10:54:54.638569Z",
          "shell.execute_reply": "2024-07-14T10:54:55.640002Z"
        },
        "trusted": true,
        "id": "NHZOx5r-1FCL"
      },
      "execution_count": null,
      "outputs": []
    },
    {
      "cell_type": "code",
      "source": [
        "model.compile('adam',loss=tf.losses.BinaryCrossentropy(), metrics=['accuracy'])"
      ],
      "metadata": {
        "execution": {
          "iopub.status.busy": "2024-07-14T10:54:55.642089Z",
          "iopub.execute_input": "2024-07-14T10:54:55.642402Z",
          "iopub.status.idle": "2024-07-14T10:54:55.658745Z",
          "shell.execute_reply.started": "2024-07-14T10:54:55.642376Z",
          "shell.execute_reply": "2024-07-14T10:54:55.657989Z"
        },
        "trusted": true,
        "id": "YTW0suhq1FCL"
      },
      "execution_count": null,
      "outputs": []
    },
    {
      "cell_type": "code",
      "source": [
        "model.summary()\n"
      ],
      "metadata": {
        "execution": {
          "iopub.status.busy": "2024-07-14T10:54:55.659685Z",
          "iopub.execute_input": "2024-07-14T10:54:55.659935Z",
          "iopub.status.idle": "2024-07-14T10:54:55.697959Z",
          "shell.execute_reply.started": "2024-07-14T10:54:55.659914Z",
          "shell.execute_reply": "2024-07-14T10:54:55.697206Z"
        },
        "trusted": true,
        "id": "BU7SGal91FCL"
      },
      "execution_count": null,
      "outputs": []
    },
    {
      "cell_type": "code",
      "source": [
        "from tensorflow.keras.utils import plot_model\n",
        "\n",
        "plot_model(model, to_file='model.png', show_shapes=True, show_layer_names=True)\n"
      ],
      "metadata": {
        "execution": {
          "iopub.status.busy": "2024-07-14T10:59:59.192863Z",
          "iopub.execute_input": "2024-07-14T10:59:59.193277Z",
          "iopub.status.idle": "2024-07-14T10:59:59.46876Z",
          "shell.execute_reply.started": "2024-07-14T10:59:59.193246Z",
          "shell.execute_reply": "2024-07-14T10:59:59.467901Z"
        },
        "trusted": true,
        "id": "TI9kMcVZ1FCM"
      },
      "execution_count": null,
      "outputs": []
    },
    {
      "cell_type": "code",
      "source": [
        "# logdir='logs'"
      ],
      "metadata": {
        "execution": {
          "iopub.status.busy": "2024-07-14T10:54:55.699046Z",
          "iopub.execute_input": "2024-07-14T10:54:55.699314Z",
          "iopub.status.idle": "2024-07-14T10:54:55.70293Z",
          "shell.execute_reply.started": "2024-07-14T10:54:55.699291Z",
          "shell.execute_reply": "2024-07-14T10:54:55.702002Z"
        },
        "trusted": true,
        "id": "5NAZtx0w1FCM"
      },
      "execution_count": null,
      "outputs": []
    },
    {
      "cell_type": "code",
      "source": [
        "import tensorflow as tf\n",
        "from tensorflow.keras.callbacks import ModelCheckpoint\n",
        "\n",
        "checkpoint = ModelCheckpoint('best_model.h5',\n",
        "                             monitor='val_accuracy',\n",
        "                             save_best_only=True,\n",
        "                             mode='max',\n",
        "                             verbose=1)\n"
      ],
      "metadata": {
        "execution": {
          "iopub.status.busy": "2024-07-14T11:01:13.478348Z",
          "iopub.execute_input": "2024-07-14T11:01:13.478704Z",
          "iopub.status.idle": "2024-07-14T11:01:13.483813Z",
          "shell.execute_reply.started": "2024-07-14T11:01:13.478678Z",
          "shell.execute_reply": "2024-07-14T11:01:13.482865Z"
        },
        "trusted": true,
        "id": "mdj2h5wk1FCN"
      },
      "execution_count": null,
      "outputs": []
    },
    {
      "cell_type": "code",
      "source": [
        "# tensorboard_callback = tf.keras.callbacks.TensorBoard(log_dir=logdir)"
      ],
      "metadata": {
        "execution": {
          "iopub.status.busy": "2024-07-14T11:01:13.485646Z",
          "iopub.execute_input": "2024-07-14T11:01:13.485999Z",
          "iopub.status.idle": "2024-07-14T11:01:13.493784Z",
          "shell.execute_reply.started": "2024-07-14T11:01:13.485964Z",
          "shell.execute_reply": "2024-07-14T11:01:13.492904Z"
        },
        "trusted": true,
        "id": "P1ahcBfX1FCN"
      },
      "execution_count": null,
      "outputs": []
    },
    {
      "cell_type": "code",
      "source": [
        "history = model.fit(data_generator,batch_size=32,epochs=25,validation_data=validation_generator,callbacks=[checkpoint])"
      ],
      "metadata": {
        "execution": {
          "iopub.status.busy": "2024-07-14T11:01:13.494934Z",
          "iopub.execute_input": "2024-07-14T11:01:13.495296Z",
          "iopub.status.idle": "2024-07-14T11:01:35.214605Z",
          "shell.execute_reply.started": "2024-07-14T11:01:13.495262Z",
          "shell.execute_reply": "2024-07-14T11:01:35.211628Z"
        },
        "trusted": true,
        "id": "uCXHogS71FCO"
      },
      "execution_count": null,
      "outputs": []
    },
    {
      "cell_type": "code",
      "source": [
        "model.save('last_model.h5')"
      ],
      "metadata": {
        "execution": {
          "iopub.status.busy": "2024-07-14T11:01:35.215306Z",
          "iopub.status.idle": "2024-07-14T11:01:35.215682Z",
          "shell.execute_reply.started": "2024-07-14T11:01:35.215498Z",
          "shell.execute_reply": "2024-07-14T11:01:35.215516Z"
        },
        "trusted": true,
        "id": "x-_zwKu31FCO"
      },
      "execution_count": null,
      "outputs": []
    },
    {
      "cell_type": "code",
      "source": [
        "# hist = model.fit(data_generator, epochs=10, validation_data=val, callbacks=[tensorboard_callback])"
      ],
      "metadata": {
        "execution": {
          "iopub.status.busy": "2024-07-14T11:01:35.216763Z",
          "iopub.status.idle": "2024-07-14T11:01:35.217077Z",
          "shell.execute_reply.started": "2024-07-14T11:01:35.216922Z",
          "shell.execute_reply": "2024-07-14T11:01:35.216937Z"
        },
        "trusted": true,
        "id": "Y-gZq5oo1FCO"
      },
      "execution_count": null,
      "outputs": []
    },
    {
      "cell_type": "code",
      "source": [
        "fig = plt.figure()\n",
        "plt.plot(history.history['loss'], color='teal',label='loss')\n",
        "plt.plot(history.history['val_loss'], color='orange',label='val_loss')\n",
        "fig.suptitle('Loss',fontsize=20)\n",
        "plt.legend(loc=\"upper left\")\n",
        "plt.show()"
      ],
      "metadata": {
        "execution": {
          "iopub.status.busy": "2024-07-14T11:01:35.219311Z",
          "iopub.status.idle": "2024-07-14T11:01:35.219678Z",
          "shell.execute_reply.started": "2024-07-14T11:01:35.219498Z",
          "shell.execute_reply": "2024-07-14T11:01:35.219517Z"
        },
        "trusted": true,
        "id": "8z-3CUVN1FCO"
      },
      "execution_count": null,
      "outputs": []
    },
    {
      "cell_type": "code",
      "source": [
        "fig = plt.figure()\n",
        "plt.plot(history.history['accuracy'], color='teal',label='accuracy')\n",
        "plt.plot(history.history['val_accuracy'], color='orange',label='val_accuracy')\n",
        "fig.suptitle('Accuracy',fontsize=20)\n",
        "plt.legend(loc=\"upper left\")\n",
        "plt.show()"
      ],
      "metadata": {
        "execution": {
          "iopub.status.busy": "2024-07-14T11:01:35.221307Z",
          "iopub.status.idle": "2024-07-14T11:01:35.221648Z",
          "shell.execute_reply.started": "2024-07-14T11:01:35.221478Z",
          "shell.execute_reply": "2024-07-14T11:01:35.221493Z"
        },
        "trusted": true,
        "id": "oDulcXS91FCO"
      },
      "execution_count": null,
      "outputs": []
    },
    {
      "cell_type": "code",
      "source": [
        "pre = Precision()\n",
        "re = Recall()\n",
        "acc = BinaryAccuracy()"
      ],
      "metadata": {
        "execution": {
          "iopub.status.busy": "2024-07-14T11:01:35.222642Z",
          "iopub.status.idle": "2024-07-14T11:01:35.222971Z",
          "shell.execute_reply.started": "2024-07-14T11:01:35.222806Z",
          "shell.execute_reply": "2024-07-14T11:01:35.222823Z"
        },
        "trusted": true,
        "id": "f-03uTiR1FCP"
      },
      "execution_count": null,
      "outputs": []
    },
    {
      "cell_type": "code",
      "source": [
        "# len(test)"
      ],
      "metadata": {
        "execution": {
          "iopub.status.busy": "2024-07-14T11:01:35.224014Z",
          "iopub.status.idle": "2024-07-14T11:01:35.224525Z",
          "shell.execute_reply.started": "2024-07-14T11:01:35.224217Z",
          "shell.execute_reply": "2024-07-14T11:01:35.224242Z"
        },
        "trusted": true,
        "id": "9Gp_QLuS1FCP"
      },
      "execution_count": null,
      "outputs": []
    },
    {
      "cell_type": "code",
      "source": [
        "# for batch in test.as_numpy_iterator():\n",
        "#   X, y =batch\n",
        "#   yhat = model.predict(X)\n",
        "#   pre.update_state(y,yhat)\n",
        "#   re.update_state(y,yhat)\n",
        "#   acc.update_state(y,yhat)"
      ],
      "metadata": {
        "execution": {
          "iopub.status.busy": "2024-07-14T11:01:35.225882Z",
          "iopub.status.idle": "2024-07-14T11:01:35.226242Z",
          "shell.execute_reply.started": "2024-07-14T11:01:35.22605Z",
          "shell.execute_reply": "2024-07-14T11:01:35.226066Z"
        },
        "trusted": true,
        "id": "7I5ekzB81FCP"
      },
      "execution_count": null,
      "outputs": []
    },
    {
      "cell_type": "code",
      "source": [
        "# print(\"Precision:\",pre.result().numpy())\n",
        "# print(\"Recall:\",re.result().numpy())\n",
        "# print(\"Accuracy:\",acc.result().numpy())"
      ],
      "metadata": {
        "execution": {
          "iopub.status.busy": "2024-07-14T11:01:35.228441Z",
          "iopub.status.idle": "2024-07-14T11:01:35.228903Z",
          "shell.execute_reply.started": "2024-07-14T11:01:35.228667Z",
          "shell.execute_reply": "2024-07-14T11:01:35.22869Z"
        },
        "trusted": true,
        "id": "nVPz51Qc1FCQ"
      },
      "execution_count": null,
      "outputs": []
    },
    {
      "cell_type": "code",
      "source": [
        "# import numpy as np\n",
        "# import tensorflow as tf\n",
        "# from sklearn.metrics import confusion_matrix, f1_score\n",
        "\n",
        "# # Assuming you have a test dataset or generator named 'test'\n",
        "# # and a pre-trained model named 'model'\n",
        "\n",
        "# pre = tf.keras.metrics.Precision()\n",
        "# re = tf.keras.metrics.Recall()\n",
        "# acc = tf.keras.metrics.Accuracy()\n",
        "\n",
        "# # Initialize variables for collecting true labels and predicted labels\n",
        "# true_labels = []\n",
        "# predicted_labels = []"
      ],
      "metadata": {
        "execution": {
          "iopub.status.busy": "2024-07-14T11:01:35.230745Z",
          "iopub.status.idle": "2024-07-14T11:01:35.231211Z",
          "shell.execute_reply.started": "2024-07-14T11:01:35.230962Z",
          "shell.execute_reply": "2024-07-14T11:01:35.230984Z"
        },
        "trusted": true,
        "id": "OZ-f3bse1FCQ"
      },
      "execution_count": null,
      "outputs": []
    },
    {
      "cell_type": "code",
      "source": [
        "# import numpy as np\n",
        "# from sklearn.metrics import confusion_matrix, f1_score\n",
        "\n",
        "# # Assuming you have a test dataset or generator named 'test'\n",
        "# # and a pre-trained model named 'model'\n",
        "\n",
        "# # Set the threshold for classification\n",
        "# threshold = 0.5\n",
        "\n",
        "# # Initialize variables for collecting true labels and predicted probabilities\n",
        "# true_labels = []\n",
        "# predicted_labels = []\n",
        "\n",
        "# # Iterate through the test data and calculate metrics\n",
        "# for batch in test.as_numpy_iterator():\n",
        "#     X, y = batch\n",
        "#     yhat = model.predict(X)\n",
        "\n",
        "#     # Convert predicted probabilities to class labels using the threshold\n",
        "#     predicted_labels.extend((yhat >= threshold).astype(int))\n",
        "#     true_labels.extend(y)\n",
        "\n",
        "# # Convert lists to numpy arrays\n",
        "# true_labels = np.array(true_labels)\n",
        "# predicted_labels = np.array(predicted_labels)\n",
        "\n",
        "# # Calculate confusion matrix\n",
        "# cm = confusion_matrix(true_labels, predicted_labels)\n",
        "\n",
        "# # Calculate F1 score\n",
        "# f1 = f1_score(true_labels, predicted_labels, average='weighted')\n",
        "\n",
        "# print(\"Confusion Matrix:\")\n",
        "# print(cm)\n",
        "# print(\"F1 Score:\", f1)"
      ],
      "metadata": {
        "execution": {
          "iopub.status.busy": "2024-07-14T11:01:35.233791Z",
          "iopub.status.idle": "2024-07-14T11:01:35.234193Z",
          "shell.execute_reply.started": "2024-07-14T11:01:35.233984Z",
          "shell.execute_reply": "2024-07-14T11:01:35.234001Z"
        },
        "trusted": true,
        "id": "Jk88_7hk1FCQ"
      },
      "execution_count": null,
      "outputs": []
    },
    {
      "cell_type": "code",
      "source": [
        "# import numpy as np\n",
        "# import matplotlib.pyplot as plt\n",
        "# import seaborn as sns\n",
        "# from sklearn.metrics import confusion_matrix\n",
        "\n",
        "# # Assuming you have the confusion matrix 'cm' calculated\n",
        "\n",
        "# # Define class labels\n",
        "# class_labels = ['Class 0', 'Class 1']\n",
        "\n",
        "# # Create a confusion matrix heatmap\n",
        "# plt.figure(figsize=(8, 6))\n",
        "# sns.set(font_scale=1.2)\n",
        "# sns.heatmap(cm, annot=True, fmt='d', cmap='Blues', cbar=False,\n",
        "#             annot_kws={'size': 14}, xticklabels=class_labels, yticklabels=class_labels)\n",
        "# plt.xlabel('Predicted Labels')\n",
        "# plt.ylabel('True Labels')\n",
        "# plt.title('Confusion Matrix')\n",
        "# plt.show()"
      ],
      "metadata": {
        "execution": {
          "iopub.status.busy": "2024-07-14T11:01:35.235927Z",
          "iopub.status.idle": "2024-07-14T11:01:35.236412Z",
          "shell.execute_reply.started": "2024-07-14T11:01:35.236156Z",
          "shell.execute_reply": "2024-07-14T11:01:35.236198Z"
        },
        "trusted": true,
        "id": "RX2-1wxk1FCR"
      },
      "execution_count": null,
      "outputs": []
    },
    {
      "cell_type": "code",
      "source": [],
      "metadata": {
        "trusted": true,
        "id": "SRao9axi1FCR"
      },
      "execution_count": null,
      "outputs": []
    },
    {
      "cell_type": "code",
      "source": [
        "# model.save('deep_fake_detection.pb')"
      ],
      "metadata": {
        "execution": {
          "iopub.status.busy": "2024-07-14T11:01:35.238306Z",
          "iopub.status.idle": "2024-07-14T11:01:35.238667Z",
          "shell.execute_reply.started": "2024-07-14T11:01:35.238463Z",
          "shell.execute_reply": "2024-07-14T11:01:35.238478Z"
        },
        "trusted": true,
        "id": "Chr7D8Dp1FCS"
      },
      "execution_count": null,
      "outputs": []
    },
    {
      "cell_type": "code",
      "source": [
        "from PIL import Image\n",
        "def predict_image_class(image_path,model,target_size):\n",
        "    # Load the pre-trained MobileNet model from TensorFlow Hub\n",
        "\n",
        "    # Load and preprocess the image\n",
        "    image = Image.open(image_path)\n",
        "    image = image.resize(target_size)  # Resize image to match the input size expected by the model\n",
        "    image = np.array(image) / 255.0    # Normalize pixel values to [0, 1]\n",
        "    image = np.expand_dims(image, axis=0)  # Add batch dimension\n",
        "\n",
        "    # Make predictions\n",
        "    predictions = model.predict(image)\n",
        "    print(predictions)\n"
      ],
      "metadata": {
        "execution": {
          "iopub.status.busy": "2024-07-14T11:01:35.240375Z",
          "iopub.status.idle": "2024-07-14T11:01:35.240831Z",
          "shell.execute_reply.started": "2024-07-14T11:01:35.2406Z",
          "shell.execute_reply": "2024-07-14T11:01:35.240622Z"
        },
        "trusted": true,
        "id": "vtbdtBh61FCc"
      },
      "execution_count": null,
      "outputs": []
    },
    {
      "cell_type": "code",
      "source": [
        "img_path='/kaggle/input/140k-real-and-fake-faces/real_vs_fake/real-vs-fake/test/fake/00F8LKY6JC.jpg'\n",
        "img=cv2.imread(img_path)\n",
        "type(img)"
      ],
      "metadata": {
        "execution": {
          "iopub.status.busy": "2024-07-14T11:01:35.242069Z",
          "iopub.status.idle": "2024-07-14T11:01:35.242419Z",
          "shell.execute_reply.started": "2024-07-14T11:01:35.242254Z",
          "shell.execute_reply": "2024-07-14T11:01:35.24227Z"
        },
        "trusted": true,
        "id": "Y2ew72kV1FCc"
      },
      "execution_count": null,
      "outputs": []
    },
    {
      "cell_type": "code",
      "source": [
        "image = Image.open(image_path)\n",
        "image = image.resize(target_size)  # Resize image to match the input size expected by the model\n",
        "image = np.array(image) / 255.0    # Normalize pixel values to [0, 1]\n",
        "image =np.expand_dims(image, axis=0)  # Add batch dimension"
      ],
      "metadata": {
        "execution": {
          "iopub.status.busy": "2024-07-14T11:01:35.244018Z",
          "iopub.status.idle": "2024-07-14T11:01:35.244376Z",
          "shell.execute_reply.started": "2024-07-14T11:01:35.244207Z",
          "shell.execute_reply": "2024-07-14T11:01:35.244223Z"
        },
        "trusted": true,
        "id": "LmAvFAW_1FCd"
      },
      "execution_count": null,
      "outputs": []
    },
    {
      "cell_type": "code",
      "source": [
        "image.shape"
      ],
      "metadata": {
        "execution": {
          "iopub.status.busy": "2024-07-14T11:01:35.245739Z",
          "iopub.status.idle": "2024-07-14T11:01:35.246245Z",
          "shell.execute_reply.started": "2024-07-14T11:01:35.245982Z",
          "shell.execute_reply": "2024-07-14T11:01:35.246004Z"
        },
        "trusted": true,
        "id": "oCOAQSNR1FCd"
      },
      "execution_count": null,
      "outputs": []
    },
    {
      "cell_type": "code",
      "source": [],
      "metadata": {
        "trusted": true,
        "id": "ldHwwx211FCd"
      },
      "execution_count": null,
      "outputs": []
    },
    {
      "cell_type": "code",
      "source": [],
      "metadata": {
        "trusted": true,
        "id": "ME1D3v_R1FCd"
      },
      "execution_count": null,
      "outputs": []
    },
    {
      "cell_type": "code",
      "source": [
        "prediction=model.predict(image)"
      ],
      "metadata": {
        "execution": {
          "iopub.status.busy": "2024-07-14T11:01:35.248958Z",
          "iopub.status.idle": "2024-07-14T11:01:35.249332Z",
          "shell.execute_reply.started": "2024-07-14T11:01:35.249138Z",
          "shell.execute_reply": "2024-07-14T11:01:35.249154Z"
        },
        "trusted": true,
        "id": "_VsBXiEO1FCe"
      },
      "execution_count": null,
      "outputs": []
    },
    {
      "cell_type": "code",
      "source": [
        "prediction"
      ],
      "metadata": {
        "execution": {
          "iopub.status.busy": "2024-07-14T11:01:35.250889Z",
          "iopub.status.idle": "2024-07-14T11:01:35.251358Z",
          "shell.execute_reply.started": "2024-07-14T11:01:35.251104Z",
          "shell.execute_reply": "2024-07-14T11:01:35.251125Z"
        },
        "trusted": true,
        "id": "9EyXaGpZ1FCe"
      },
      "execution_count": null,
      "outputs": []
    },
    {
      "cell_type": "code",
      "source": [
        "# model1=load_model('/kaggle/working/deep_fake_detection.pb')"
      ],
      "metadata": {
        "execution": {
          "iopub.status.busy": "2024-07-14T11:01:35.253071Z",
          "iopub.status.idle": "2024-07-14T11:01:35.253552Z",
          "shell.execute_reply.started": "2024-07-14T11:01:35.253317Z",
          "shell.execute_reply": "2024-07-14T11:01:35.25334Z"
        },
        "trusted": true,
        "id": "oTr8iaLU1FCe"
      },
      "execution_count": null,
      "outputs": []
    },
    {
      "cell_type": "code",
      "source": [
        "# for batch in test.as_numpy_iterator():\n",
        "#     X, y =batch\n",
        "#     yhat = model.predict(X)\n",
        "#     print(yhat)"
      ],
      "metadata": {
        "execution": {
          "iopub.status.busy": "2024-07-14T11:01:35.255012Z",
          "iopub.status.idle": "2024-07-14T11:01:35.255394Z",
          "shell.execute_reply.started": "2024-07-14T11:01:35.255212Z",
          "shell.execute_reply": "2024-07-14T11:01:35.25523Z"
        },
        "trusted": true,
        "id": "Gjs32rma1FCf"
      },
      "execution_count": null,
      "outputs": []
    },
    {
      "cell_type": "code",
      "source": [
        "# def load_and_preprocess_image(image_path):\n",
        "# #     img = image.load_img(image_path, target_size=(None,256, 256,3))\n",
        "#     img = cv2.imread(os.path.join(data_dir,'Train','Real','real_58276.jpg'))\n",
        "#     img=cv2.resize(img,(256,256))\n",
        "#     img_array = image.img_to_array(img)  # Convert PIL image to numpy array\n",
        "#     return img_array"
      ],
      "metadata": {
        "execution": {
          "iopub.status.busy": "2024-07-14T11:01:35.257161Z",
          "iopub.status.idle": "2024-07-14T11:01:35.257519Z",
          "shell.execute_reply.started": "2024-07-14T11:01:35.257355Z",
          "shell.execute_reply": "2024-07-14T11:01:35.257371Z"
        },
        "trusted": true,
        "id": "XzO6ebFE1FCg"
      },
      "execution_count": null,
      "outputs": []
    },
    {
      "cell_type": "code",
      "source": [
        "# index=0\n",
        "# for batch in test.as_numpy_iterator():\n",
        "#     index+=1\n",
        "#     if index==2:\n",
        "#         break\n",
        "#     X, y =batch\n",
        "#     yhat = model.predict(X)"
      ],
      "metadata": {
        "execution": {
          "iopub.status.busy": "2024-07-14T11:01:35.258845Z",
          "iopub.status.idle": "2024-07-14T11:01:35.2593Z",
          "shell.execute_reply.started": "2024-07-14T11:01:35.2591Z",
          "shell.execute_reply": "2024-07-14T11:01:35.259119Z"
        },
        "trusted": true,
        "id": "0ZUFUmM01FCg"
      },
      "execution_count": null,
      "outputs": []
    }
  ]
}